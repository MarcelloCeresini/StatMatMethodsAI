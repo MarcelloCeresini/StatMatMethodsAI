{
 "cells": [
  {
   "attachments": {},
   "cell_type": "markdown",
   "metadata": {},
   "source": [
    "# Polynomial regression\n",
    "\n",
    "$f_\\theta(x) = \\sum_j^K \\phi_{j}(x)\\theta_{j}$\n",
    "\n",
    "where K is the maximum power of the polynomial defined by $\\phi$ --> $\\phi_j(x) = x^{j-1}$ --> $K-1$ degree polynomial\n",
    "\n",
    "$\\Phi $ is the vandermonde matrix associated with X! ($N \\times K$)\n"
   ]
  },
  {
   "cell_type": "code",
   "execution_count": 2,
   "metadata": {},
   "outputs": [],
   "source": [
    "import numpy as np"
   ]
  },
  {
   "cell_type": "code",
   "execution_count": null,
   "metadata": {},
   "outputs": [],
   "source": [
    "# oss: OPTIMIZABLE BY GRADIENT DESCENT! --> theta_i is (K*1) and the rule is\n",
    "\n",
    "def update(theta):\n",
    "    #theta[0]\n",
    "    new_theta = np.zeros_like(theta)\n",
    "    new_theta[0] = theta[0]\n",
    "    for t in range(1, ):\n",
    "        new_theta[t] = theta[t-1] - phi.T(phi.T @ theta - Y)"
   ]
  },
  {
   "cell_type": "code",
   "execution_count": 5,
   "metadata": {},
   "outputs": [],
   "source": [
    "def best_solution_MLE(Phi, Y):\n",
    "    return np.linalg.inv(Phi.T @ Phi) @ Phi.T @ Y\n",
    "\n",
    "def best_solution_MAP(Phi, param, Y):\n",
    "    return np.linalg.inv(Phi.T @ Phi + param * np.eye(Phi.shape)) @ Phi.T @ Y"
   ]
  },
  {
   "attachments": {},
   "cell_type": "markdown",
   "metadata": {},
   "source": [
    "### Solve overfitting: plot training and test error wrt K (poly degree)"
   ]
  }
 ],
 "metadata": {
  "kernelspec": {
   "display_name": "env",
   "language": "python",
   "name": "python3"
  },
  "language_info": {
   "codemirror_mode": {
    "name": "ipython",
    "version": 3
   },
   "file_extension": ".py",
   "mimetype": "text/x-python",
   "name": "python",
   "nbconvert_exporter": "python",
   "pygments_lexer": "ipython3",
   "version": "3.10.6"
  },
  "orig_nbformat": 4,
  "vscode": {
   "interpreter": {
    "hash": "31e027379c6121b5e6bf64ed9100277294218b9e98ce7db2c95bb2476df4c3fc"
   }
  }
 },
 "nbformat": 4,
 "nbformat_minor": 2
}
