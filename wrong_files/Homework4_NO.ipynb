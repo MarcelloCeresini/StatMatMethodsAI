{
 "cells": [
  {
   "attachments": {},
   "cell_type": "markdown",
   "metadata": {},
   "source": [
    "## Same thing but Poisson"
   ]
  },
  {
   "cell_type": "code",
   "execution_count": 1,
   "metadata": {},
   "outputs": [],
   "source": [
    "# %matplotlib widget\n",
    "import numpy as np\n",
    "from functools import partial\n",
    "import matplotlib.pyplot as plt\n",
    "from matplotlib import cm\n",
    "from tqdm import tqdm\n",
    "np.random.seed(42)"
   ]
  },
  {
   "cell_type": "code",
   "execution_count": 2,
   "metadata": {},
   "outputs": [],
   "source": [
    "K = 10\n",
    "a, b = 0.1, 1.3\n",
    "N_train = 80\n",
    "N_test = 20\n",
    "var = 0.5"
   ]
  },
  {
   "cell_type": "code",
   "execution_count": 3,
   "metadata": {},
   "outputs": [
    {
     "name": "stdout",
     "output_type": "stream",
     "text": [
      "X_train shape :(80,), X_test shape :(20,)\n"
     ]
    }
   ],
   "source": [
    "theta_true = np.ones(K)\n",
    "X_train = np.linspace(a, b, N_train)\n",
    "X_test = np.random.uniform(a, b, N_test)\n",
    "print(\"X_train shape :{}, X_test shape :{}\".format(X_train.shape, X_test.shape))"
   ]
  },
  {
   "cell_type": "code",
   "execution_count": 4,
   "metadata": {},
   "outputs": [],
   "source": [
    "def phi_func(x, k):\n",
    "    return np.power(x, np.arange(0, k))\n",
    "\n",
    "def get_y_from_x(x, k, theta):\n",
    "    if x.shape[0] > 2:\n",
    "        return np.array([np.random.poisson(phi_func(x_i, k) @ theta) for x_i in x])\n",
    "    else:\n",
    "        return np.random.poisson(phi_func(x, k) @ theta)"
   ]
  },
  {
   "cell_type": "code",
   "execution_count": 5,
   "metadata": {},
   "outputs": [
    {
     "name": "stdout",
     "output_type": "stream",
     "text": [
      "Y_train shape :(80,), Y_test shape :(20,)\n"
     ]
    }
   ],
   "source": [
    "Y_train = get_y_from_x(X_train, K, theta_true)\n",
    "Y_test = get_y_from_x(X_test, K, theta_true)\n",
    "print(\"Y_train shape :{}, Y_test shape :{}\".format(Y_train.shape, Y_test.shape))\n"
   ]
  },
  {
   "cell_type": "code",
   "execution_count": 6,
   "metadata": {},
   "outputs": [
    {
     "data": {
      "image/png": "[encoded data removed]",
      "text/plain": [
       "<Figure size 640x480 with 1 Axes>"
      ]
     },
     "metadata": {},
     "output_type": "display_data"
    }
   ],
   "source": [
    "plt.plot(X_train, Y_train, \"+b\", alpha=0.2, label=\"train data\")\n",
    "plt.plot(X_test, Y_test, \"+r\", alpha=0.8, label=\"test data\")\n",
    "plt.legend()\n",
    "plt.show()"
   ]
  },
  {
   "attachments": {},
   "cell_type": "markdown",
   "metadata": {},
   "source": [
    "If $Poi(y|\\lambda)=\\frac{\\lambda^y e^{-\\lambda}}{y!}$ for one sample, then the negative log likelyhood is $$L(\\lambda) = \\sum_i^N [-y_i\\log{\\lambda} + \\lambda + \\log{(y_i!)}]$$\n",
    "\n",
    "$\\lambda$ in our case was defined as $\\phi(x_i) \\theta$, where $\\phi$ is $[1, x_i, x_i^2, ..., x_i^{K-1}]^T$ and $\\theta$ are the parameters of our regressor.\n",
    "\n",
    "So it becomes: $$L(\\theta) = \\sum_i^N [-y_i\\log{(\\phi(x_i)\\theta)} + \\phi(x_i)\\theta + const]$$"
   ]
  },
  {
   "attachments": {},
   "cell_type": "markdown",
   "metadata": {},
   "source": [
    "Putting the derivative = 0 results in: $$\\sum_i^N [\\phi(x_i) + y_i \\phi(x_i) * \\frac{1}{\\phi(x_i)\\theta}] = 0$$\n",
    "\n",
    "$$\\sum_i^N [\\phi(x_i) (1 + y_i * \\frac{1}{\\phi(x_i)\\theta})] = 0$$"
   ]
  },
  {
   "attachments": {},
   "cell_type": "markdown",
   "metadata": {},
   "source": [
    "Unfortunately, if we tried to write it in matrix form, it wouldn't be so easy because the derivative of the logarithm is defined only for $$dA A = A dA$$\n",
    "\n",
    "If we defined $\\Phi(X)$ as the vandermonde matrix $\\Phi \\in \\mathbb{R}^{N \\times K}$\n",
    "\n",
    "We could see that $$\\Phi(X)  [\\Phi(X)\\theta] \\ne [\\Phi(X)\\theta]  \\Phi(X)$$\n",
    "\n",
    "because of the dimensions mismatch."
   ]
  },
  {
   "attachments": {},
   "cell_type": "markdown",
   "metadata": {},
   "source": [
    "However we can still use $$\\sum_i^N [\\phi(x_i) (1 + y_i * \\frac{1}{\\phi(x_i)\\theta})]$$\n",
    "\n",
    "as a gradient in a gradient descent method."
   ]
  },
  {
   "cell_type": "code",
   "execution_count": 16,
   "metadata": {},
   "outputs": [],
   "source": [
    "def gradient(theta, x, y, k):\n",
    "    if x.shape[0] > 1:\n",
    "        gradients = []\n",
    "        for x_i, y_i in zip(x, y):\n",
    "            phi = phi_func(x_i, k)\n",
    "            gradients.append(phi*(1-y_i/(phi @ theta)))\n",
    "        return gradients\n",
    "    else:\n",
    "        phi = phi_func(x, k)\n",
    "        return phi*(1-y/(phi @ theta))\n",
    "\n",
    "def predict(x, k, theta):\n",
    "    if x.shape[0] > 1:\n",
    "        return np.array([phi_func(x_i, k) @ theta for x_i in x])\n",
    "    else:\n",
    "        return phi_func(x, k) @ theta\n",
    "\n",
    "# even if not minimizing the MSE, it still is a good indicator of the performance of the weights\n",
    "def MSE_loss(theta, x, y, k):\n",
    "    return np.mean((predict(x, k, theta) - y)**2)"
   ]
  },
  {
   "cell_type": "code",
   "execution_count": 21,
   "metadata": {},
   "outputs": [],
   "source": [
    "def is_fininshed(grad_f, wk, wk_1, w0, X, Y, k, tolf, tolx):\n",
    "\n",
    "    flag_rel = np.linalg.norm(grad_f(wk, X, Y, k))**2 < (tolf * np.linalg.norm(grad_f(w0, X, Y, k))**2)\n",
    "    flag_abs = np.linalg.norm(wk-wk_1)**2 < tolx\n",
    "    return flag_rel and flag_abs\n",
    "\n",
    "\n",
    "def SGD(loss_func, grad_func, k, w0, data, batch_size, n_epochs):\n",
    "    '''\n",
    "    Applies SGD on a logistic regressor with MSE loss\n",
    "    If batch_size is set to -1, we configure it as normal GD with stopping conditions\n",
    "    '''\n",
    "    alpha = 1e-2\n",
    "\n",
    "    X, Y = data\n",
    "\n",
    "    w = [w0]\n",
    "    loss_val = []\n",
    "    grads_val = []\n",
    "    err_val = []\n",
    "\n",
    "    ### only useful for GD\n",
    "    tolx = 1e-6\n",
    "    tolf = 1e-6\n",
    "    # set up for normal GD\n",
    "    if batch_size == -1:\n",
    "        batch_size = len(Y)\n",
    "        n_epochs = 100\n",
    "    ###\n",
    "\n",
    "    for epoch in range(n_epochs):\n",
    "        indeces = np.arange(len(Y))\n",
    "        np.random.shuffle(indeces)\n",
    "        X = X[indeces]\n",
    "        Y = Y[indeces]\n",
    "\n",
    "        for i in range(0, len(Y), batch_size):\n",
    "            batch_X = X[i:i+batch_size]\n",
    "            batch_Y = Y[i:i+batch_size]\n",
    "            new_weights = w[-1] - alpha*np.mean(grad_func(w[-1], batch_X, batch_Y, k))\n",
    "            w.append(new_weights)\n",
    "\n",
    "        loss_val.append(loss_func(w[-1], X, Y, k))\n",
    "        grads_val.append(grad_func(w[-1], X, Y, k))\n",
    "        err_val.append(np.linalg.norm(grads_val[-1])**2)\n",
    "\n",
    "        # GD convergence check\n",
    "        if batch_size == len(Y):\n",
    "            if is_fininshed(grad_func, w[-1], w[-2], w[0], X, Y, k, tolf, tolx):\n",
    "                break\n",
    "    \n",
    "    return w,loss_val, grads_val, err_val"
   ]
  },
  {
   "cell_type": "code",
   "execution_count": 22,
   "metadata": {},
   "outputs": [],
   "source": [
    "w_GD, loss_val, grads_val, err_val = SGD(MSE_loss, gradient, K, np.random.normal(size=K), (X_train, Y_train), -1, 150)\n",
    "theta_GD = w_GD[-1]\n"
   ]
  },
  {
   "cell_type": "code",
   "execution_count": 23,
   "metadata": {},
   "outputs": [
    {
     "data": {
      "image/png": "[encoded data removed]",
      "text/plain": [
       "<Figure size 640x480 with 1 Axes>"
      ]
     },
     "metadata": {},
     "output_type": "display_data"
    }
   ],
   "source": [
    "_, ax = plt.subplots(1, 1)\n",
    "ax.plot(err_val)\n",
    "ax.set_yscale(\"log\")"
   ]
  },
  {
   "cell_type": "code",
   "execution_count": 24,
   "metadata": {},
   "outputs": [
    {
     "data": {
      "image/png": "[encoded data removed]",
      "text/plain": [
       "<Figure size 640x480 with 1 Axes>"
      ]
     },
     "metadata": {},
     "output_type": "display_data"
    }
   ],
   "source": [
    "_, ax = plt.subplots(1, 1)\n",
    "ax.plot(loss_val)\n",
    "ax.set_yscale(\"log\")"
   ]
  },
  {
   "cell_type": "code",
   "execution_count": null,
   "metadata": {},
   "outputs": [],
   "source": [
    "_, ax = plt.subplots(1, 1)\n",
    "ax.plot(loss_val)\n",
    "ax.set_yscale(\"log\")"
   ]
  }
 ],
 "metadata": {
  "kernelspec": {
   "display_name": "env",
   "language": "python",
   "name": "python3"
  },
  "language_info": {
   "codemirror_mode": {
    "name": "ipython",
    "version": 3
   },
   "file_extension": ".py",
   "mimetype": "text/x-python",
   "name": "python",
   "nbconvert_exporter": "python",
   "pygments_lexer": "ipython3",
   "version": "3.10.6 (main, Nov 14 2022, 16:10:14) [GCC 11.3.0]"
  },
  "orig_nbformat": 4,
  "vscode": {
   "interpreter": {
    "hash": "31e027379c6121b5e6bf64ed9100277294218b9e98ce7db2c95bb2476df4c3fc"
   }
  }
 },
 "nbformat": 4,
 "nbformat_minor": 2
}
